{
 "cells": [
  {
   "cell_type": "markdown",
   "metadata": {},
   "source": [
    "# Pollinations.ai\n",
    "Demo: https://pollinations.ai/"
   ]
  },
  {
   "cell_type": "code",
   "execution_count": 1,
   "metadata": {},
   "outputs": [
    {
     "name": "stdout",
     "output_type": "stream",
     "text": [
      "Note: you may need to restart the kernel to use updated packages.\n"
     ]
    }
   ],
   "source": [
    "%pip install pollinations==1.3.2 --quiet"
   ]
  },
  {
   "cell_type": "code",
   "execution_count": 2,
   "metadata": {},
   "outputs": [
    {
     "name": "stdout",
     "output_type": "stream",
     "text": [
      "ImageURL(url=https://im...)\n"
     ]
    }
   ],
   "source": [
    "import pollinations as ai\n",
    "\n",
    "model: object = ai.Model()\n",
    "\n",
    "image: object = model.generate(\n",
    "    prompt='A high resolution image of experienced female indian doctor, spectacles, brown hair, front view, half body, around 30 age, photo picture, hospital background providing medical consultation',\n",
    "    model=ai.turbo,\n",
    "    width=1024,\n",
    "    height=1024,\n",
    "    seed=20 \n",
    ")\n",
    "\n",
    "image.save('crackathon/reports/figures/pollinations_avatar.jpg')\n",
    "\n",
    "print(image.url)"
   ]
  },
  {
   "cell_type": "markdown",
   "metadata": {},
   "source": [
    "# Lexica.art\n",
    "Demo: https://lexica.art/\n",
    "\n",
    "API Docs: https://lexica.qewertyy.dev/docs/\n",
    "\n",
    "Example: https://graph.org/file/7b4722f07e1272ff7e65c.jpg"
   ]
  },
  {
   "cell_type": "markdown",
   "metadata": {},
   "source": [
    "## List Models"
   ]
  },
  {
   "cell_type": "code",
   "execution_count": 3,
   "metadata": {},
   "outputs": [
    {
     "name": "stdout",
     "output_type": "stream",
     "text": [
      "Success: {'models': {'chat': [{'id': 1, 'name': 'Gemma', 'baseModel': ''}, {'id': 5, 'name': 'gpt-3.5-turbo', 'baseModel': 'GPT'}, {'id': 19, 'name': 'gpt-4', 'baseModel': 'GPT', 'type': 'Premium'}, {'id': 18, 'name': 'Llama 2', 'baseModel': 'Llama', 'version': '7b-chat-int8'}, {'id': 14, 'name': 'Llama 2', 'baseModel': 'Llama', 'version': '7b-chat-fp16'}, {'id': 20, 'name': 'bard', 'baseModel': 'LLM'}, {'id': 21, 'name': 'Mistral', 'baseModel': 'LLM', 'version': '7b-instruct-v0.1'}, {'id': 23, 'name': 'Gemini-Pro', 'baseModel': 'PaLM 2'}, {'id': 24, 'name': 'Gemini-Pro-Vision', 'baseModel': 'PaLM 2'}, {'id': 26, 'name': 'Llama 2', 'baseModel': 'Llama', 'version': '13b-chat-awq'}, {'id': 27, 'name': 'OpenHermes', 'baseModel': 'Mistral 7B', 'version': '2.5-mistral-7b-awq'}, {'id': 31, 'name': 'Zephyr', 'baseModel': 'LLM', 'version': '7b-beta-awq'}], 'image': [{'id': 2, 'name': 'Meina Mix', 'baseModel': 'SD'}, {'id': 3, 'name': 'AnyLora', 'baseModel': 'SD'}, {'id': 4, 'name': 'AnyThingV4', 'baseModel': 'SD'}, {'id': 7, 'name': 'Goofball Mix', 'baseModel': 'SD'}, {'id': 8, 'name': 'MeinaHentai', 'baseModel': 'SD'}, {'id': 9, 'name': 'DarkSushi Mix', 'baseModel': 'SD'}, {'id': 10, 'name': 'SDXL', 'baseModel': 'SDXL 1.0'}, {'id': 11, 'name': 'Creative', 'baseModel': 'SD'}, {'id': 12, 'name': 'CreativeV2', 'baseModel': 'SD'}, {'id': 13, 'name': 'Absolute Reality', 'baseModel': 'SD'}, {'id': 17, 'name': 'CalicoMix', 'baseModel': 'SD'}, {'id': 15, 'name': 'AnimeV1', 'baseModel': 'SD'}, {'id': 16, 'name': 'Lexica', 'baseModel': 'SD', 'type': 'Exclusive'}, {'id': 34, 'name': 'Dreamshaper', 'baseModel': 'SD'}, {'id': 25, 'name': 'CetusMix', 'baseModel': 'SD'}, {'id': 30, 'name': 'Anime', 'baseModel': 'SD'}, {'id': 32, 'name': 'Anime 2', 'baseModel': 'SD'}, {'id': 33, 'name': 'Dall-E', 'baseModel': 'Dall-E'}, {'id': 35, 'name': 'Realistic', 'baseModel': 'SD'}, {'id': 36, 'name': 'Logo', 'baseModel': 'SD'}, {'id': 39, 'name': 'Sticker', 'baseModel': 'SD'}, {'id': 40, 'name': 'Anime v1.1', 'baseModel': 'SD'}], 'AntiNSFW': [{'id': 28, 'name': 'Serene'}, {'id': 29, 'name': 'nsfwjs', 'source': 'https://github.com/infinitered/nsfwjs'}], 'customGPTs': [{'id': 22, 'name': 'Title Generator', 'baseModel': 'gpt-3.5-turbo'}], 'upscale': [{'name': 'Lexica', 'id': 37}, {'name': 'Pixel', 'id': 38}]}, 'message': 'ok', 'code': 2}\n"
     ]
    }
   ],
   "source": [
    "import requests\n",
    "\n",
    "# Define the API endpoint\n",
    "url = 'https://lexica.qewertyy.dev/models'\n",
    "\n",
    "# Define the headers\n",
    "headers = {\n",
    "    'accept': 'application/json'\n",
    "}\n",
    "\n",
    "# Make the GET request\n",
    "response = requests.get(url, headers=headers)\n",
    "\n",
    "# Check the response\n",
    "if response.status_code == 200:\n",
    "    print(\"Success:\", response.json())\n",
    "else:\n",
    "    print(\"Error:\", response.status_code, response.text)\n"
   ]
  },
  {
   "cell_type": "markdown",
   "metadata": {},
   "source": [
    "## Create avatar"
   ]
  },
  {
   "cell_type": "code",
   "execution_count": 4,
   "metadata": {},
   "outputs": [
    {
     "name": "stdout",
     "output_type": "stream",
     "text": [
      "Success: {'message': 'success', 'task_id': 87496416, 'request_id': 'CT-815835a938145886', 'code': 1, 'taskId': 87496416, 'requestId': 'CT-815835a938145886'}\n"
     ]
    }
   ],
   "source": [
    "import requests\n",
    "\n",
    "# Define the API endpoint\n",
    "url = 'https://lexica.qewertyy.dev/models/inference'\n",
    "\n",
    "# Define the headers\n",
    "headers = {\n",
    "    'accept': 'application/json',\n",
    "    'Content-Type': 'application/json'\n",
    "}\n",
    "\n",
    "# Define the data payload\n",
    "data = {\n",
    "    'prompt': 'A high resolution image of experienced female indian doctor, spectacles, brown hair, front view, half body, around 30 age, photo picture, hospital background providing medical consultation',\n",
    "    'model_id': 13,\n",
    "    'negative_prompt': 'string'\n",
    "}\n",
    "\n",
    "# Make the POST request\n",
    "response = requests.post(url, headers=headers, json=data)\n",
    "\n",
    "# Check the response\n",
    "if response.status_code == 200:\n",
    "    print(\"Success:\", response.json())\n",
    "else:\n",
    "    print(\"Error:\", response.status_code, response.text)\n",
    "\n",
    "result = response.json()\n",
    "task_id = result.get(\"task_id\")\n",
    "request_id = result.get(\"request_id\")"
   ]
  },
  {
   "cell_type": "markdown",
   "metadata": {},
   "source": [
    "## Save avatar"
   ]
  },
  {
   "cell_type": "code",
   "execution_count": 6,
   "metadata": {},
   "outputs": [
    {
     "name": "stdout",
     "output_type": "stream",
     "text": [
      "Success: {'message': 'finished', 'images': [{'url': 'https://graph.org/file/ede944f4c7a89c2c724e6.jpg', 'width': 512, 'height': 768}], 'img_urls': ['https://graph.org/file/ede944f4c7a89c2c724e6.jpg'], 'code': 2}\n",
      "Download Completed\n"
     ]
    }
   ],
   "source": [
    "import requests\n",
    "\n",
    "# Define the API endpoint\n",
    "url = 'https://lexica.qewertyy.dev/models/inference/task'\n",
    "\n",
    "# Define the headers\n",
    "headers = {\n",
    "    'accept': 'application/json',\n",
    "    'Content-Type': 'application/json'\n",
    "}\n",
    "\n",
    "# Define the data payload\n",
    "data = {\n",
    "    'task_id': task_id,\n",
    "    'request_id': request_id\n",
    "}\n",
    "\n",
    "# Make the POST request\n",
    "response = requests.post(url, headers=headers, json=data)\n",
    "\n",
    "# Check the response\n",
    "if response.status_code == 200:\n",
    "    print(\"Success:\", response.json())\n",
    "else:\n",
    "    print(\"Error:\", response.status_code, response.text)\n",
    "\n",
    "result = response.json()\n",
    "\n",
    "def download_image(image_url):\n",
    "    # Fetching the image from the URL\n",
    "    response = requests.get(image_url)\n",
    "    # Writing the content to a file named 'image.jpg'\n",
    "    with open('crackathon/reports/figures/lexica-avatar.jpg', 'wb') as file:\n",
    "        file.write(response.content)\n",
    "    # Logging completion message\n",
    "    print('Download Completed')\n",
    "\n",
    "\n",
    "download_image(image_url=result.get('img_urls')[0])   "
   ]
  }
 ],
 "metadata": {
  "kernelspec": {
   "display_name": "cloudspace",
   "language": "python",
   "name": "python3"
  },
  "language_info": {
   "codemirror_mode": {
    "name": "ipython",
    "version": 3
   },
   "file_extension": ".py",
   "mimetype": "text/x-python",
   "name": "python",
   "nbconvert_exporter": "python",
   "pygments_lexer": "ipython3",
   "version": "3.10.10"
  }
 },
 "nbformat": 4,
 "nbformat_minor": 2
}
